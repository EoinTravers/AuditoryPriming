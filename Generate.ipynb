{
 "cells": [
  {
   "cell_type": "code",
   "execution_count": null,
   "metadata": {},
   "outputs": [],
   "source": [
    "import ffmpy\n",
    "import pydub\n",
    "from pydub import AudioSegment, playback\n",
    "import os\n",
    "import sys\n",
    "import matplotlib.pyplot as plt\n",
    "import numpy as np\n",
    "from glob import glob\n",
    "import random\n",
    "\n",
    "\n",
    "import utils\n",
    "from utils import mkdir, find_wavs, read_audio_from_dir"
   ]
  },
  {
   "cell_type": "markdown",
   "metadata": {},
   "source": [
    "Input files:\n",
    "\n",
    "- `media/male/`: Words read by a male speaker, manually edited to all be approximately the same length. \n",
    "- `media/female/`: Targets read by a male speaker, manually edited to all be approximately the same length. \n",
    "\n",
    "Recordings in `male` are shorter than in `female`.\n"
   ]
  },
  {
   "cell_type": "code",
   "execution_count": null,
   "metadata": {},
   "outputs": [],
   "source": [
    "sample_dir = 'media/'\n",
    "target_dir = os.path.join(sample_dir, 'female')\n",
    "source_dir = os.path.join(sample_dir, 'male')\n",
    "compressed_dir = os.path.join(sample_dir, 'compressed')\n",
    "reversed_dir = os.path.join(sample_dir, 'reversed')\n",
    "for d in [compressed_dir, reversed_dir]:\n",
    "    mkdir(d)"
   ]
  },
  {
   "cell_type": "markdown",
   "metadata": {},
   "source": [
    "# Step 1 - Compress Male Speaker and Make Reversed versions"
   ]
  },
  {
   "cell_type": "code",
   "execution_count": null,
   "metadata": {},
   "outputs": [],
   "source": [
    "compression_rate = 1.\n",
    "from utils import compress, reverse, rm\n",
    "file_names = find_wavs(source_dir)\n",
    "file_names"
   ]
  },
  {
   "cell_type": "code",
   "execution_count": null,
   "metadata": {},
   "outputs": [],
   "source": [
    "for fn in file_names:\n",
    "    inp = os.path.join(source_dir, fn)\n",
    "    out = os.path.join(compressed_dir, fn)\n",
    "    out_r = os.path.join(reversed_dir, fn)\n",
    "    rm(out)\n",
    "    rm(out_r)\n",
    "    compress(inp, out, amount=compression_rate)\n",
    "    reverse(out, out_r)"
   ]
  },
  {
   "cell_type": "markdown",
   "metadata": {},
   "source": [
    "# Step 2 - Join together primes and target audio"
   ]
  },
  {
   "cell_type": "code",
   "execution_count": null,
   "metadata": {},
   "outputs": [],
   "source": [
    "silence = pydub.AudioSegment.silent(duration=200)\n",
    "targets = read_audio_from_dir(target_dir)\n",
    "compressed = read_audio_from_dir(compressed_dir)\n",
    "reversals = read_audio_from_dir(reversed_dir)\n",
    "from utils import play"
   ]
  },
  {
   "cell_type": "code",
   "execution_count": null,
   "metadata": {},
   "outputs": [],
   "source": [
    "for key, audio in reversals.items():\n",
    "    print(key)\n",
    "    play(audio)\n",
    "    play(silence)"
   ]
  },
  {
   "cell_type": "code",
   "execution_count": null,
   "metadata": {},
   "outputs": [],
   "source": [
    "for key, audio in targets.items():\n",
    "    print(key)\n",
    "    play(audio)"
   ]
  },
  {
   "cell_type": "code",
   "execution_count": null,
   "metadata": {},
   "outputs": [],
   "source": [
    "masks = {k : v for k, v in reversals.items() if k not in ['Left', 'Right']}\n",
    "mask_list = [v for k, v in masks.items()]\n",
    "mask_list"
   ]
  },
  {
   "cell_type": "code",
   "execution_count": null,
   "metadata": {},
   "outputs": [],
   "source": [
    "primes = {k : v for k, v in compressed.items() if k in ['Left', 'Right']}\n",
    "primes"
   ]
  },
  {
   "cell_type": "code",
   "execution_count": null,
   "metadata": {},
   "outputs": [],
   "source": [
    "for key, audio in primes.items():\n",
    "    print(key)\n",
    "    play(audio)\n",
    "    play(silence)"
   ]
  },
  {
   "cell_type": "code",
   "execution_count": null,
   "metadata": {},
   "outputs": [],
   "source": [
    "def concatenate_words(words: list, silence : pydub.AudioSegment = silence, ISI=200) -> pydub.AudioSegment:\n",
    "    '''Join together a list of recordings, with silence in between\n",
    "    ISI is time between onsets of consecutive primes or masks.\n",
    "    '''\n",
    "    lengths = [len(w) for w in words]\n",
    "    result = silence[0:ISI]\n",
    "    for w in words:\n",
    "        if len(w) > ISI:\n",
    "            w = w[:ISI]\n",
    "        w = w.fade_in(10)\n",
    "        w = w.fade_out(10)\n",
    "        dur = len(w)\n",
    "        result = result + w + silence[:(ISI-dur)]\n",
    "    return result\n"
   ]
  },
  {
   "cell_type": "code",
   "execution_count": null,
   "metadata": {},
   "outputs": [],
   "source": [
    "def generate_sequence(prime_loc: int, prime_label: str, target_label: str, \n",
    "                      boost = 1,\n",
    "                      mask=True, ISI=150, pad_end=3,\n",
    "                      targets: dict = targets,\n",
    "                      primes: dict=primes,\n",
    "                      masks: list=mask_list) -> pydub.AudioSegment:\n",
    "    '''Generate audio for a single trial\n",
    "    Args:\n",
    "        prime_loc: Number of masks before (and including) the prime\n",
    "        prime_label: 'Left' or 'Right'\n",
    "        target_label: 'Left' or 'Right'\n",
    "        mask: Should the prime be masked?\n",
    "        ISI: Time between primes/masks\n",
    "        pad_end: Number of masks after the prime\n",
    "        targets: dict of AudioSegments, with keys 'Left' and 'Right'\n",
    "        primes: As above\n",
    "        masks: List of mask AudioSegments. We don't care about order, so no keys.\n",
    "        \n",
    "    Returns:\n",
    "        One long pydub.AudioSegment\n",
    "    '''\n",
    "    n = prime_loc + pad_end\n",
    "    if mask:\n",
    "        ix = np.random.choice(range(len(masks)), n)\n",
    "        mask_audio = [masks[i] for i in ix]        \n",
    "    else:\n",
    "        mask_audio = [silence] * (n + 5)\n",
    "    if prime_label is not None:\n",
    "        mask_audio[prime_loc] = primes[prime_label]\n",
    "    mask_audio = mask_audio + [silence] * 3\n",
    "    if boost > 0:\n",
    "        result = concatenate_words(mask_audio, silence, ISI=ISI) - boost\n",
    "    if target_label is not None:\n",
    "        target_audio = targets[target_label]\n",
    "        if boost < 0:\n",
    "            target_audio += boost\n",
    "        target_onset = (prime_loc+2) * (ISI) # First 1xISI is silence.\n",
    "        result = result.overlay(target_audio, position=target_onset)\n",
    "    return result"
   ]
  },
  {
   "cell_type": "code",
   "execution_count": null,
   "metadata": {},
   "outputs": [],
   "source": [
    "primes"
   ]
  },
  {
   "cell_type": "markdown",
   "metadata": {},
   "source": [
    "## Manually specify some trials"
   ]
  },
  {
   "cell_type": "code",
   "execution_count": null,
   "metadata": {},
   "outputs": [],
   "source": [
    "seq = generate_sequence(5, 'Right', 'Right', mask=False)\n",
    "play(seq)"
   ]
  },
  {
   "cell_type": "code",
   "execution_count": null,
   "metadata": {},
   "outputs": [],
   "source": [
    "seq = generate_sequence(5, 'Right', None, mask=True)\n",
    "play(seq)"
   ]
  },
  {
   "cell_type": "code",
   "execution_count": null,
   "metadata": {},
   "outputs": [],
   "source": [
    "# seq = generate_sequence(5, 'Right', 'Right', mask=True)\n",
    "# play(seq)"
   ]
  },
  {
   "cell_type": "code",
   "execution_count": null,
   "metadata": {},
   "outputs": [],
   "source": [
    "# seq = generate_sequence(5, 'Right', 'Right', mask=True)\n",
    "# play(seq)"
   ]
  },
  {
   "cell_type": "code",
   "execution_count": null,
   "metadata": {},
   "outputs": [],
   "source": [
    "# seq = generate_sequence(5, 'Right', None, mask=True)\n",
    "# play(seq)"
   ]
  },
  {
   "cell_type": "markdown",
   "metadata": {},
   "source": [
    "## Automatically generate and save some trials"
   ]
  },
  {
   "cell_type": "code",
   "execution_count": null,
   "metadata": {},
   "outputs": [],
   "source": [
    "def do_trial(prime=None, mask=None, target=None, save=None):\n",
    "    '''Generate a trial AudioSegment, and either save or play it.\n",
    "    If prime, and target should be either None, 'Left', or 'Right'\n",
    "    Mask should be either True or False (None will be coerced to False)\n",
    "    '''\n",
    "    LR = ['Left', 'Right']\n",
    "    LRN = ['Left', 'Right', None]\n",
    "    n = np.random.randint(4, 10)\n",
    "    assert prime in LRN\n",
    "    assert target in LRN\n",
    "    seq = generate_sequence(n, prime, target, mask=mask)\n",
    "    if save is not None:\n",
    "        seq.export(out_f=save, format='wav')\n",
    "    else:\n",
    "        play(seq)"
   ]
  },
  {
   "cell_type": "code",
   "execution_count": null,
   "metadata": {},
   "outputs": [],
   "source": [
    "%mkdir -p output"
   ]
  },
  {
   "cell_type": "code",
   "execution_count": null,
   "metadata": {},
   "outputs": [],
   "source": [
    "do_trial(mask=False, prime=None, target='Left', save='output/target_left.wav') # Target only"
   ]
  },
  {
   "cell_type": "code",
   "execution_count": null,
   "metadata": {},
   "outputs": [],
   "source": [
    "do_trial(mask=False, prime=None, target='Right', save='output/target_right.wav') # Target only"
   ]
  },
  {
   "cell_type": "code",
   "execution_count": null,
   "metadata": {},
   "outputs": [],
   "source": [
    "LR = ['Left', 'Right']\n",
    "for prime in LR:\n",
    "    for target in LR:\n",
    "        fn = ('output/prime_%s_target_%s.wav' % (prime, target)).lower()\n",
    "        do_trial(mask=False, prime=prime, target=target, save=fn)"
   ]
  },
  {
   "cell_type": "code",
   "execution_count": null,
   "metadata": {},
   "outputs": [],
   "source": [
    "LR = ['Left', 'Right']\n",
    "for prime in LR:\n",
    "    for target in LR:\n",
    "        fn = ('output/prime_%s_target_%s_masked.wav' % (prime, target)).lower()\n",
    "        do_trial(mask=True, prime=prime, target=target, save=fn)"
   ]
  },
  {
   "cell_type": "code",
   "execution_count": null,
   "metadata": {},
   "outputs": [],
   "source": []
  },
  {
   "cell_type": "code",
   "execution_count": null,
   "metadata": {},
   "outputs": [],
   "source": [
    "do_trial(mask=False, prime='Left', target='Right', save='output/prime_left_target_left.wav')\n",
    "do_trial(mask=False, prime=None, target='Right', save='output/prime_right_target_right.wav')"
   ]
  },
  {
   "cell_type": "code",
   "execution_count": null,
   "metadata": {},
   "outputs": [],
   "source": [
    "do_trial(mask=True, prime='Left', target='Right') # Target and prime"
   ]
  },
  {
   "cell_type": "code",
   "execution_count": null,
   "metadata": {},
   "outputs": [],
   "source": [
    "do_trial(mask=True, prime=None, target=None) # Target and prime"
   ]
  },
  {
   "cell_type": "code",
   "execution_count": null,
   "metadata": {},
   "outputs": [],
   "source": [
    "do_trial(mask=True, prime='Right', target=None) # Target and prime"
   ]
  },
  {
   "cell_type": "code",
   "execution_count": null,
   "metadata": {},
   "outputs": [],
   "source": [
    "# do_trial(mask=False, prime=True, target=True) # Target and prime\n",
    "do_trial(mask=False, prime='Right', target='Left') # Target and prime\n",
    "# do_trial(mask=False, prime=True, target=True) # Target and prime"
   ]
  }
 ],
 "metadata": {
  "kernelspec": {
   "display_name": "Python 3",
   "language": "python",
   "name": "python3"
  },
  "language_info": {
   "codemirror_mode": {
    "name": "ipython",
    "version": 3
   },
   "file_extension": ".py",
   "mimetype": "text/x-python",
   "name": "python",
   "nbconvert_exporter": "python",
   "pygments_lexer": "ipython3",
   "version": "3.7.4"
  }
 },
 "nbformat": 4,
 "nbformat_minor": 2
}
